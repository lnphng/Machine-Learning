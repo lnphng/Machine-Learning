{
 "cells": [
  {
   "cell_type": "markdown",
   "metadata": {
    "hideCode": false,
    "hidePrompt": false
   },
   "source": [
    "## Word counts with bag-of-words\n",
    "\n",
    "- learn how to identify the who, what, and where of texts using pre-trained models on English and non-English text. \n",
    "- also learn how to use some new libraries, polyglot and spaCy, to add to NLP toolbox."
   ]
  },
  {
   "cell_type": "code",
   "execution_count": 1,
   "metadata": {
    "hideCode": false,
    "hidePrompt": false
   },
   "outputs": [],
   "source": [
    "import nltk \n",
    "from nltk.tokenize import word_tokenize\n",
    "from nltk.tokenize import sent_tokenize\n",
    "from nltk import pos_tag, ne_chunk_sents\n",
    "\n"
   ]
  },
  {
   "cell_type": "markdown",
   "metadata": {
    "hideCode": false,
    "hidePrompt": false
   },
   "source": [
    "### NER with NLTK\n",
    "- use nltk to find the named entities in the article."
   ]
  },
  {
   "cell_type": "code",
   "execution_count": 2,
   "metadata": {
    "hideCode": false,
    "hidePrompt": false,
    "scrolled": true
   },
   "outputs": [],
   "source": [
    "with open('News articles/uber_apple.txt',mode= 'r',encoding=\"utf-8\" ) as file:\n",
    "    article = file.read()"
   ]
  },
  {
   "cell_type": "code",
   "execution_count": 3,
   "metadata": {
    "hideCode": false,
    "hidePrompt": false,
    "scrolled": false
   },
   "outputs": [
    {
     "name": "stdout",
     "output_type": "stream",
     "text": [
      "(NE Uber/NNP)\n",
      "(NE Beyond/NN)\n",
      "(NE Apple/NNP)\n",
      "(NE Uber/NNP)\n",
      "(NE Uber/NNP)\n",
      "(NE Travis/NNP Kalanick/NNP)\n",
      "(NE Tim/NNP Cook/NNP)\n",
      "(NE Apple/NNP)\n",
      "(NE Silicon/NNP Valley/NNP)\n",
      "(NE CEO/NNP)\n",
      "(NE Yahoo/NNP)\n",
      "(NE Marissa/NNP Mayer/NNP)\n"
     ]
    }
   ],
   "source": [
    "# Tokenize the article into sentences: sentences\n",
    "sentences =  sent_tokenize(article)\n",
    "\n",
    "# Tokenize each sentence into words: token_sentences\n",
    "token_sentences = [ word_tokenize(sent) for sent in sentences]\n",
    "\n",
    "# Tag each tokenized sentence into parts of speech: pos_sentences\n",
    "pos_sentences = [ pos_tag(sent) for sent in token_sentences] \n",
    "\n",
    "# Create the named entity chunks: chunked_sentences\n",
    "chunked_sentences =  ne_chunk_sents(pos_sentences, binary=True)\n",
    "\n",
    "# Test for stems of the tree with 'NE' tags\n",
    "for sent in chunked_sentences:\n",
    "        for chunk in sent:\n",
    "            if hasattr(chunk, \"label\") and chunk.label() == \"NE\":\n",
    "                print(chunk)\n",
    "\n",
    "            "
   ]
  },
  {
   "cell_type": "markdown",
   "metadata": {
    "hideCode": true,
    "hidePrompt": true
   },
   "source": [
    "### Charting practice\n",
    "- use some extracted named entities and their groupings from a series of newspaper articles to chart the diversity of named entity types in the articles.\n",
    "\n",
    "- use a defaultdict called ner_categories, with keys representing every named entity group type, and values to count the number of each different named entity type. \n",
    "- create a chunked sentence list with non-binary category names.\n"
   ]
  },
  {
   "cell_type": "code",
   "execution_count": 4,
   "metadata": {
    "hideCode": false,
    "hidePrompt": false
   },
   "outputs": [],
   "source": [
    "from collections import defaultdict\n",
    "import matplotlib.pyplot as plt"
   ]
  },
  {
   "cell_type": "code",
   "execution_count": 5,
   "metadata": {
    "hideCode": false,
    "hidePrompt": false
   },
   "outputs": [],
   "source": [
    "chunked_sentences = nltk.ne_chunk_sents(pos_sentences, binary=False)\n",
    "# Create the defaultdict: ner_categories\n",
    "ner_categories = defaultdict(int)\n",
    "\n",
    "# Create the nested for loop\n",
    "for sent in chunked_sentences:\n",
    "    for chunk in sent:\n",
    "        if hasattr(chunk, 'label'):\n",
    "            ner_categories[chunk.label()] += 1\n",
    "            \n",
    "# Create a list from the dictionary keys for the chart labels: labels\n",
    "labels = list(ner_categories.keys())\n",
    "\n",
    "# Create a list of the values: values\n",
    "values = [ner_categories.get(v) for v in labels]\n",
    "\n"
   ]
  },
  {
   "cell_type": "code",
   "execution_count": 6,
   "metadata": {
    "hideCode": false,
    "hidePrompt": false
   },
   "outputs": [
    {
     "data": {
      "image/png": "[encoded data removed]",
      "text/plain": [
       "<Figure size 432x288 with 1 Axes>"
      ]
     },
     "metadata": {},
     "output_type": "display_data"
    }
   ],
   "source": [
    "# Create the pie chart\n",
    "plt.pie(values, labels=labels, autopct='%1.1f%%', startangle=140)\n",
    "\n",
    "# Display the chart\n",
    "plt.show()"
   ]
  },
  {
   "cell_type": "code",
   "execution_count": 7,
   "metadata": {
    "hideCode": false,
    "hidePrompt": false
   },
   "outputs": [
    {
     "name": "stdout",
     "output_type": "stream",
     "text": [
      "ORG unroll.me\n",
      "ORG Apple\n",
      "PERSON Uber\n",
      "FAC Travis Kalanick of Uber\n",
      "PERSON Tim Cook\n",
      "ORG Apple\n",
      "CARDINAL Millions\n",
      "PERSON Uber\n",
      "LOC Silicon Valley\n",
      "ORG Yahoo\n",
      "PERSON Marissa Mayer\n",
      "MONEY 186\n"
     ]
    }
   ],
   "source": [
    "# Import spacy\n",
    "import spacy\n",
    "\n",
    "\n",
    "# Instantiate the English model: nlp\n",
    "nlp = spacy.load('en_core_web_sm',tagger=False, parser=False, matcher=False)\n",
    "\n",
    "# Create a new document: doc\n",
    "doc = nlp(article)\n",
    "\n",
    "# Print all of the found entities and their labels\n",
    "for ent in doc.ents:\n",
    "    print(ent.label_, ent.text)\n"
   ]
  },
  {
   "cell_type": "code",
   "execution_count": 8,
   "metadata": {
    "hideCode": false,
    "hidePrompt": false,
    "scrolled": true
   },
   "outputs": [],
   "source": [
    "\n",
    "import polyglot\n",
    "from polyglot.text import Text, Word\n",
    "from polyglot.downloader import downloader\n",
    "\n"
   ]
  },
  {
   "cell_type": "code",
   "execution_count": 9,
   "metadata": {
    "hideCode": false,
    "hidePrompt": false
   },
   "outputs": [
    {
     "name": "stdout",
     "output_type": "stream",
     "text": [
      "Language Detected: Code=fr, Name=French\n",
      "\n"
     ]
    }
   ],
   "source": [
    "text = Text(\"Bonjour, Mesdames.\")\n",
    "print(\"Language Detected: Code={}, Name={}\\n\".format(text.language.code, text.language.name))"
   ]
  },
  {
   "cell_type": "code",
   "execution_count": 10,
   "metadata": {
    "hideCode": false,
    "hidePrompt": false
   },
   "outputs": [
    {
     "name": "stdout",
     "output_type": "stream",
     "text": [
      "['Beautiful', 'is', 'better', 'than', 'ugly', '.', 'Explicit', 'is', 'better', 'than', 'implicit', '.', 'Simple', 'is', 'better', 'than', 'complex', '.']\n"
     ]
    }
   ],
   "source": [
    "zen = Text(\"Beautiful is better than ugly. \"\n",
    "           \"Explicit is better than implicit. \"\n",
    "           \"Simple is better than complex.\")\n",
    "print(zen.words)"
   ]
  },
  {
   "cell_type": "code",
   "execution_count": 11,
   "metadata": {
    "hideCode": false,
    "hidePrompt": false
   },
   "outputs": [],
   "source": [
    "with open('News articles/french.txt',mode= 'r',encoding=\"utf-8\" ) as file:\n",
    "    article = file.read()\n",
    "\n",
    "# download use poly16 with polyglot_path\n",
    "#!polyglot download ner2.fr\n",
    "#!polyglot download embeddings2.fr"
   ]
  },
  {
   "cell_type": "code",
   "execution_count": 12,
   "metadata": {
    "hideCode": false,
    "hidePrompt": false,
    "scrolled": false
   },
   "outputs": [
    {
     "name": "stdout",
     "output_type": "stream",
     "text": [
      "['Charles', 'Cuvelliez']\n",
      "['Charles', 'Cuvelliez']\n",
      "['Bruxelles']\n",
      "['l’IA']\n",
      "['Julien', 'Maldonato']\n",
      "['Deloitte']\n",
      "['Ethiquement']\n",
      "['l’IA']\n",
      "['.']\n",
      "<class 'polyglot.text.Chunk'>\n"
     ]
    }
   ],
   "source": [
    "from polyglot.text import Text\n",
    "\n",
    "# Create a new text object using Polyglot's Text class: txt\n",
    "txt = Text(article)\n",
    "\n",
    "# Print each of the entities found\n",
    "for ent in txt.entities:\n",
    "    print(ent)\n",
    "    \n",
    "# Print the type of ent\n",
    "print(type(ent))"
   ]
  },
  {
   "cell_type": "code",
   "execution_count": 13,
   "metadata": {
    "scrolled": true
   },
   "outputs": [
    {
     "data": {
      "text/plain": [
       "Text(\"﻿édition abonné\n",
       "\n",
       "\n",
       "Dans une tribune au « Monde », l’universitaire Charles Cuvelliez estime que le fantasme d’un remplacement de l’homme par l’algorithme et le robot repose sur un malentendu.\n",
       "\n",
       "\n",
       "Le Monde | 10.05.2017 à 06h44 • Mis à jour le 10.05.2017 à 09h47 | Par Charles Cuvelliez (Professeur à l’Ecole polytechnique de l'université libre de Bruxelles)\n",
       "\n",
       "\n",
       "TRIBUNE. L’usage morbide, par certains, de Facebook Live a amené son fondateur à annoncer précipitamment le recrutement de 3 000 modérateurs supp... apprentissage sur des paramètres pour lesquels une vision humaine n’explique pas pourquoi ils marchent si bien dans un contexte donné.\n",
       "\n",
       "\n",
       "C’est aussi ce que dit le rapport de l’Office parlementaire d’évaluation des choix scientifiques et technologiques (« Pour une intelligence artificielle maîtrisée, utile et démystifiée », 29 mars 2017), pour qui ce côté « boîte noire » explique des angoisses infondées. Ethiquement, se fonder sur l’IA pour des tâches critiques sans bien comprendre le comment...\")"
      ]
     },
     "execution_count": 13,
     "metadata": {},
     "output_type": "execute_result"
    }
   ],
   "source": [
    "txt"
   ]
  },
  {
   "cell_type": "code",
   "execution_count": 14,
   "metadata": {},
   "outputs": [
    {
     "data": {
      "text/plain": [
       "[I-PER(['Charles', 'Cuvelliez']),\n",
       " I-PER(['Charles', 'Cuvelliez']),\n",
       " I-ORG(['Bruxelles']),\n",
       " I-PER(['l’IA']),\n",
       " I-PER(['Julien', 'Maldonato']),\n",
       " I-ORG(['Deloitte']),\n",
       " I-PER(['Ethiquement']),\n",
       " I-LOC(['l’IA']),\n",
       " I-PER(['.'])]"
      ]
     },
     "execution_count": 14,
     "metadata": {},
     "output_type": "execute_result"
    }
   ],
   "source": [
    "txt.entities"
   ]
  },
  {
   "cell_type": "code",
   "execution_count": 15,
   "metadata": {
    "hideCode": false,
    "hidePrompt": false,
    "scrolled": false
   },
   "outputs": [
    {
     "name": "stdout",
     "output_type": "stream",
     "text": [
      "[('I-PER', 'Charles Cuvelliez'), ('I-PER', 'Charles Cuvelliez'), ('I-ORG', 'Bruxelles'), ('I-PER', 'l’IA'), ('I-PER', 'Julien Maldonato'), ('I-ORG', 'Deloitte'), ('I-PER', 'Ethiquement'), ('I-LOC', 'l’IA'), ('I-PER', '.')]\n"
     ]
    }
   ],
   "source": [
    "# Create the list of tuples: entities\n",
    "entities = [(ent.tag, ' '.join(ent)) for ent in txt.entities]\n",
    "# Print entities\n",
    "print(entities)"
   ]
  },
  {
   "cell_type": "code",
   "execution_count": 16,
   "metadata": {
    "hideCode": false,
    "hidePrompt": false
   },
   "outputs": [],
   "source": [
    "#!polyglot download ner2.es \n",
    "#!polyglot download embeddings2.es\n",
    "with open('News articles/spanish.txt', 'r') as file:\n",
    "    article = file.read()"
   ]
  },
  {
   "cell_type": "code",
   "execution_count": 17,
   "metadata": {
    "hideCode": false,
    "hidePrompt": false,
    "scrolled": true
   },
   "outputs": [
    {
     "name": "stdout",
     "output_type": "stream",
     "text": [
      "Language Detected: Code=es, Name=Spanish\n",
      "\n"
     ]
    }
   ],
   "source": [
    "# Create a new text object using Polyglot's Text class: txt\n",
    "txt = Text(article, )\n",
    "\n",
    "print(\"Language Detected: Code={}, Name={}\\n\".format(txt.language.code, txt.language.name))\n"
   ]
  },
  {
   "cell_type": "code",
   "execution_count": 18,
   "metadata": {
    "hideCode": false,
    "hidePrompt": false,
    "scrolled": false
   },
   "outputs": [
    {
     "data": {
      "text/plain": [
       "[I-PER(['Lina']),\n",
       " I-PER(['Castillo']),\n",
       " I-PER(['Teresa', 'Lozano', 'Long']),\n",
       " I-ORG(['Universidad', 'de', 'Texas']),\n",
       " I-PER(['Austin']),\n",
       " I-LOC(['Austin', '.']),\n",
       " I-PER(['Austin', '.', 'Ella']),\n",
       " I-PER(['Gabriel', 'García', 'Márquez']),\n",
       " I-PER(['Gabriel', 'García', 'Márquez']),\n",
       " I-PER(['LIna']),\n",
       " I-PER(['Castillo']),\n",
       " I-LOC(['colombiano']),\n",
       " I-LOC(['Colombia']),\n",
       " I-LOC(['Estados', 'Unidos']),\n",
       " I-PER(['Castillo']),\n",
       " I-ORG(['Nation']),\n",
       " I-PER(['Kenneth', 'Nebenzahl']),\n",
       " I-PER(['Jr']),\n",
       " I-ORG(['Library']),\n",
       " I-ORG(['Society']),\n",
       " I-LOC(['Humboldt']),\n",
       " I-LOC(['América', 'Latina']),\n",
       " I-PER(['Gabriel', 'García', 'Márquez']),\n",
       " I-PER(['Gabo']),\n",
       " I-PER(['Fidel', 'Castro']),\n",
       " I-PER(['Gabo']),\n",
       " I-PER(['Castro']),\n",
       " I-LOC(['colombianos']),\n",
       " I-PER(['Gabo']),\n",
       " I-LOC(['colombiano']),\n",
       " I-PER(['colombiano', 'Belisario', 'Betancur']),\n",
       " I-PER(['Betancur']),\n",
       " I-ORG(['Fuerzas', 'Armadas', 'Revolucionarias', 'de', 'Colombia']),\n",
       " I-ORG(['FARC']),\n",
       " I-PER(['Gabo']),\n",
       " I-LOC(['Cuba']),\n",
       " I-PER(['Betancur']),\n",
       " I-PER(['Gabo']),\n",
       " I-LOC(['Cuba']),\n",
       " I-PER(['.', 'Betancur']),\n",
       " I-PER(['Gabriel', 'García', 'Márquez']),\n",
       " I-PER(['Gabo']),\n",
       " I-LOC(['San', 'Vicente', 'del', 'Caguán']),\n",
       " I-PER(['Andrés', 'Patrana']),\n",
       " I-ORG(['FARC']),\n",
       " I-PER(['Gabo']),\n",
       " I-PER(['Pastrana']),\n",
       " I-ORG(['Ejército', 'de', 'Liberación', 'Nacional']),\n",
       " I-ORG(['ELN']),\n",
       " I-PER(['García', 'Márquez']),\n",
       " I-PER(['Mercedes', 'Barcha']),\n",
       " I-ORG(['ELN']),\n",
       " I-LOC(['La', 'Habana']),\n",
       " I-PER(['Gabo']),\n",
       " I-LOC(['La', 'Habana']),\n",
       " I-PER(['Gabo']),\n",
       " I-PER(['Fidel', 'Castro']),\n",
       " I-PER(['Gabriel', 'García', 'Márquez']),\n",
       " I-PER(['Harry', 'Ransom']),\n",
       " I-ORG(['Harry', 'Ransom', 'Center']),\n",
       " I-PER(['Harry', 'Ransom', 'Center', '.', 'Fidel', 'Castro']),\n",
       " I-PER(['Gabriel', 'García', 'Márquez']),\n",
       " I-PER(['Carmen', 'Balcells']),\n",
       " I-LOC(['La', 'Habana']),\n",
       " I-PER(['Harry', 'Ransom']),\n",
       " I-ORG(['Harry', 'Ransom', 'Center']),\n",
       " I-PER(['Fidel', 'Castro']),\n",
       " I-PER(['Gabriel', 'García', 'Márquez']),\n",
       " I-PER(['Fidel', 'Castro']),\n",
       " I-PER(['Gabriel', 'García', 'Márquez']),\n",
       " I-PER(['Carmen', 'Balcells']),\n",
       " I-LOC(['La', 'Habana']),\n",
       " I-LOC(['Estados', 'Unidos']),\n",
       " I-LOC(['Colombia']),\n",
       " I-PER(['.', 'Gabriel', 'García', 'Márquez']),\n",
       " I-PER(['Gabo']),\n",
       " I-PER(['Salman', 'Rushdie']),\n",
       " I-PER(['Elena', 'Poniatowska']),\n",
       " I-PER(['Gabo']),\n",
       " I-PER(['Gabo']),\n",
       " I-PER(['Gabriel', 'García', 'Márquez']),\n",
       " I-LOC(['Macondo']),\n",
       " I-LOC(['colombiana']),\n",
       " I-ORG(['United', 'Fruit', 'Company']),\n",
       " I-LOC(['colombiano']),\n",
       " I-LOC(['Ciénaga']),\n",
       " I-LOC(['Santa']),\n",
       " I-PER(['Santa', 'Marta']),\n",
       " I-PER(['García', 'Márquez']),\n",
       " I-PER(['José', 'Arcadio', 'Segundo']),\n",
       " I-PER(['García', 'Márquez']),\n",
       " I-ORG(['United', 'Fruit']),\n",
       " I-LOC(['Colombia']),\n",
       " I-PER(['Macondo']),\n",
       " I-PER(['Gabo']),\n",
       " I-PER(['Gabo']),\n",
       " I-LOC(['Ciénaga']),\n",
       " I-LOC(['colombiana']),\n",
       " I-PER(['José', 'Arcadio', 'Segundo']),\n",
       " I-PER(['García', 'Márquez']),\n",
       " I-PER(['Gabriel', 'García', 'Márquez']),\n",
       " I-PER(['Harry', 'Ransom']),\n",
       " I-ORG(['Harry', 'Ransom', 'Center'])]"
      ]
     },
     "execution_count": 18,
     "metadata": {},
     "output_type": "execute_result"
    }
   ],
   "source": [
    "txt = Text(article, hint_language_code='es')\n",
    "txt.entities"
   ]
  },
  {
   "cell_type": "code",
   "execution_count": 19,
   "metadata": {
    "hideCode": false,
    "hidePrompt": false
   },
   "outputs": [
    {
     "name": "stdout",
     "output_type": "stream",
     "text": [
      "['Gabriel', 'García', 'Márquez']\n",
      "['Gabriel', 'García', 'Márquez']\n",
      "['Gabriel', 'García', 'Márquez']\n",
      "['Gabo']\n",
      "['Gabo']\n",
      "['Gabo']\n",
      "['Gabo']\n",
      "['Gabo']\n",
      "['Gabriel', 'García', 'Márquez']\n",
      "['Gabo']\n",
      "['Gabo']\n",
      "['García', 'Márquez']\n",
      "['Gabo']\n",
      "['Gabo']\n",
      "['Gabriel', 'García', 'Márquez']\n",
      "['Gabriel', 'García', 'Márquez']\n",
      "['Gabriel', 'García', 'Márquez']\n",
      "['Gabriel', 'García', 'Márquez']\n",
      "['.', 'Gabriel', 'García', 'Márquez']\n",
      "['Gabo']\n",
      "['Gabo']\n",
      "['Gabo']\n",
      "['Gabriel', 'García', 'Márquez']\n",
      "['García', 'Márquez']\n",
      "['García', 'Márquez']\n",
      "['Gabo']\n",
      "['Gabo']\n",
      "['García', 'Márquez']\n",
      "['Gabriel', 'García', 'Márquez']\n",
      "29\n",
      "103\n"
     ]
    }
   ],
   "source": [
    "\n",
    "# Initialize the count variable: count\n",
    "count = 0\n",
    "\n",
    "# Iterate over all the entities\n",
    "for ent in txt.entities:\n",
    "    # Check whether the entity contains 'Márquez' or 'Gabo'\n",
    "    if ('Márquez' in ent) or ('Gabo' in ent):\n",
    "        count += 1\n",
    "        print(ent)\n",
    "\n",
    "# Print count\n",
    "print(count)\n",
    "print(len(txt.entities))\n",
    "#print(txt.entities)"
   ]
  },
  {
   "cell_type": "code",
   "execution_count": 20,
   "metadata": {
    "hideCode": false,
    "hidePrompt": false
   },
   "outputs": [
    {
     "name": "stdout",
     "output_type": "stream",
     "text": [
      "0.2815533980582524\n"
     ]
    }
   ],
   "source": [
    "\n",
    "# Calculate the percentage of entities that refer to \"Gabo\": percentage\n",
    "percentage = count / len(txt.entities)\n",
    "print(percentage)"
   ]
  }
 ],
 "metadata": {
  "hide_code_all_hidden": true,
  "hide_input": false,
  "kernelspec": {
   "display_name": "Python 3",
   "language": "python",
   "name": "python3"
  },
  "language_info": {
   "codemirror_mode": {
    "name": "ipython",
    "version": 3
   },
   "file_extension": ".py",
   "mimetype": "text/x-python",
   "name": "python",
   "nbconvert_exporter": "python",
   "pygments_lexer": "ipython3",
   "version": "3.7.6"
  }
 },
 "nbformat": 4,
 "nbformat_minor": 4
}
