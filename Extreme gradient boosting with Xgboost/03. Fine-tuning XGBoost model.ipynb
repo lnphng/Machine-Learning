{
 "cells": [
  {
   "cell_type": "markdown",
   "metadata": {},
   "source": [
    "## Tune XGBoost model\n",
    "\n",
    "- make `XGBoost` models as performant as possible. \n",
    "- learn about the variety of parameters that can be adjusted to alter the behavior of `XGBoost`\n",
    "- and how to tune them efficiently so that supercharge the performance of models."
   ]
  },
  {
   "cell_type": "code",
   "execution_count": null,
   "metadata": {},
   "outputs": [],
   "source": []
  }
 ],
 "metadata": {
  "hide_input": false,
  "kernelspec": {
   "display_name": "Python 3",
   "language": "python",
   "name": "python3"
  },
  "language_info": {
   "codemirror_mode": {
    "name": "ipython",
    "version": 3
   },
   "file_extension": ".py",
   "mimetype": "text/x-python",
   "name": "python",
   "nbconvert_exporter": "python",
   "pygments_lexer": "ipython3",
   "version": "3.7.6"
  }
 },
 "nbformat": 4,
 "nbformat_minor": 4
}
